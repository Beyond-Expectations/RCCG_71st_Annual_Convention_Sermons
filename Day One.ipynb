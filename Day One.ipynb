{
 "cells": [
  {
   "cell_type": "markdown",
   "id": "bfc6b3af",
   "metadata": {},
   "source": [
    "# RCCG 71st Annual Convetion: Beyond Expectations"
   ]
  },
  {
   "cell_type": "markdown",
   "id": "77d194b0",
   "metadata": {},
   "source": [
    "## Day One"
   ]
  },
  {
   "cell_type": "markdown",
   "id": "dabf094a",
   "metadata": {},
   "source": [
    "**TOPIC:  Beyond Expectations (House Fellowship)**\n",
    "\n",
    "PREACHER: Daddy G. O.\n",
    "\n",
    "BIBLE TEXTS: [Matthew 8:14-17](https://www.biblegateway.com/passage/?search=Matthew%208&version=NKJV)\n",
    "\n",
    "**Notes:**\n",
    "* Only failures make excuses!\n",
    "\n",
    "Today’s sermon is centered on house fellowships. [Matthew 8:14-17](https://www.biblegateway.com/passage/?search=Matthew%208&version=NKJV) described how Jesus healed Peter’s mother-in-law. It follows that there should be no sick person in your house fellowship since it is expected that Jesus should be present in your house fellowship. Your house fellowship should be extraordinary. \n",
    "\n",
    "God expects that your house fellowship should exceed the usual expectations, that is, it should be beyond expectation. There should be a spatial spread of news of signs, wonders, and miracles in all your house fellowships. \n",
    "\n",
    "Your house fellowship should be a gathering (or place) of prayer [Isaiah 56:6-8](https://www.biblegateway.com/passage/?search=Isaiah%2056&version=NKJV). Digging deep originated from daddy G. O.’s house fellowship. It started with an intention to share his born again experience with others and today it has grown to become a stream of blessings to many souls. \n",
    "\n",
    "One lesson that I learnt from the above story is that every “BIG” enterprise started small, with consistency. Build on your ideas, one step at a time. Relish the  process, do not just dream of the destination.\n",
    "\n",
    "Daddy G. O. highlighted that he is a leader by example. Follow in his good steps.\n",
    "\n",
    "**Prayers points:**\n",
    "1. Father, I do not want to be ordinary, I want to exceed expectations.\n",
    "\n",
    "\n"
   ]
  }
 ],
 "metadata": {
  "kernelspec": {
   "display_name": "Python 3 (ipykernel)",
   "language": "python",
   "name": "python3"
  },
  "language_info": {
   "codemirror_mode": {
    "name": "ipython",
    "version": 3
   },
   "file_extension": ".py",
   "mimetype": "text/x-python",
   "name": "python",
   "nbconvert_exporter": "python",
   "pygments_lexer": "ipython3",
   "version": "3.10.9"
  }
 },
 "nbformat": 4,
 "nbformat_minor": 5
}
