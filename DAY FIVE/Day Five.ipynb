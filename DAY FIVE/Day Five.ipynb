{
 "cells": [
  {
   "cell_type": "markdown",
   "id": "8d5d725f",
   "metadata": {},
   "source": [
    "# DAY FOUR"
   ]
  },
  {
   "cell_type": "markdown",
   "id": "1ef1fea8",
   "metadata": {},
   "source": [
    "**TOPIC: BEYOND EXPECTATIONS**\n",
    "\n",
    "**PREACHER: DADDY G.O.**\n",
    "\n",
    "**BIBLE TEXTS: [EPHESIANS 3:20-21](https://www.biblegateway.com/passage/?search=Ephesians%203%3A20-21&version=KJV)**"
   ]
  },
  {
   "cell_type": "markdown",
   "id": "94196c5f",
   "metadata": {},
   "source": [
    "**NOTES:**\n",
    "\n",
    "_Prophesy: Daddy says that every dead project shall resurrect._\n",
    "_Prophesy: Daddy says that your own time has come at last._\n",
    "_Prophesy: Daddy says to someone that you are not where you ought to be because the fellow who is to help you has refused, but he won’t be able to sleep again until he has helped you._\n",
    "\n",
    "Our God is Jehovah El Shaddai (the One who is more than enough, who can do much more than we expect). He doesn’t know how to do small things, he does not stop when your cup is full [Psalms 23:5](https://www.biblegateway.com/passage/?search=Psalm%2023%3A5&version=KJV), according to [Psalms 68:19](https://www.biblegateway.com/passage/?search=Psalm%2068%3A19&version=KJV), he loads us with benefits. God doesn’t stop when all needs are met, he makes sure that there would never be any need again [2 Kings 4:1-7](https://www.biblegateway.com/passage/?search=2%20Kings%204%3A1-7&version=KJV). He always goes the extra mile whenever he is dealing with you.\n",
    "\n",
    "In [Mark 8:22-25](https://www.biblegateway.com/passage/?search=Mark%208%3A22-25&version=KJV), upon touching the man’s eyes at first, he did not stop when he saw men as trees, Jesus gave him a second touch. In the wedding at Cana Jesus did not just provide wine, he gave the best wine [John 2:1-10](https://www.biblegateway.com/passage/?search=John%202%3A1-10&version=KJV). In [Joel 2:26-27](https://www.biblegateway.com/passage/?search=Joel%202%3A26-27&version=KJV), God made a promise that you shall never be ashamed and in the name of Jesus, you will never see shame. However, Jesus can turn an embarrassment to glory [Mark 10:46-52](https://www.biblegateway.com/passage/?search=Mark%2010%3A46-52&version=KJV).\n",
    "\n",
    "_Prophesy: against all odds, you will come next year with your husband_\n",
    "\n",
    "[Psalms 46:1](https://www.biblegateway.com/passage/?search=Psalm%2046%3A1&version=KJV) God is not just a helper, he is an ever present help in trouble. Just when you are in trouble, but he goes beyond that. He is ready to carry you all the way through until the end [Matthew 14:22-33](https://www.biblegateway.com/passage/?search=Matthew%2014%3A22-33&version=KJV). Not only will he stand by you in trouble like he promised in [Isaiah 43:1-2](https://www.biblegateway.com/passage/?search=Isaiah%2043%3A1-2&version=KJV), he remains with you in the fire. One might ask why the fire experience if you will be there with me? It is usually because he is about to give you double promotion [Job 42:12-17](https://www.biblegateway.com/passage/?search=Job%2042%3A12-17&version=KJV).\n",
    "\n",
    "_Prophesy: many times in your dreams in the recent past, you had to wake up suddenly because someone is trying to choke you. That demon will never return._\n",
    "\n",
    "In [Psalm 90:1-2](https://www.biblegateway.com/passage/?search=Psalm%2090%3A1-2&version=KJV), God does not only remove mountains, occasionally to show himself mighty, he will cause you to fly over the mountain [Isaiah 40:31](https://www.biblegateway.com/passage/?search=Isaiah%2040%3A31&version=KJV).\n",
    "\n",
    "**Prayer: in the mighty name of Jesus, mountain I command you, get out of my way.**\n",
    "\n",
    "God doesn’t give you victory, he can give you victory after victory [1 Samuel 17:34-51](https://www.biblegateway.com/passage/?search=1%20Samuel%2017%3A34-51&version=KJV). However, he can make sure that you never have to fight again [Isaiah 54:15-17](https://www.biblegateway.com/passage/?search=Isaiah%2054%3A15-17&version=KJV).\n",
    "\n",
    "_Prophesy: very soon you will be singing and your song will be “it is raining all over me.”_\n",
    "_Prophesy: every seed sown this month, the harvest will be beyond expectations._\n",
    "\n",
    "[1 Samuel 2:7-9](https://www.biblegateway.com/passage/?search=1%20Samuel%202%3A7-9&version=KJV) tells us that God can promote you from the very bottom. He doesn’t just go to the dunghill, he goes deeper into the miry clay [Psalm 40:1-3](https://www.biblegateway.com/passage/?search=Psalm%2040%3A1-3&version=KJV). When he wants to promote, he can go to the prison house to make one a ruler [Genesis 41:37-44](https://www.biblegateway.com/passage/?search=Genesis%2041%3A37-44&version=KJV).\n",
    "\n",
    "_Prophesy: get ready for hard work, because I am about to open many doors simultaneously._\n",
    "\n",
    "God cannot only destroy all your yokes, he can use your presence to destroy the yokes of others. [Acts 16:25-end](https://www.biblegateway.com/passage/?search=Acts%2016%3A25&version=KJV)\n",
    "\n",
    "_Prophesy: You are fighting a battle of a lifetime, I have sent confusion to the camp of your enemies._\n",
    "\n",
    "God cannot only say the worst of sinners, he can turn him into an apostle  [1 Timothy 1:15](https://www.biblegateway.com/passage/?search=1%20Timothy%201%3A15&version=KJV), [2 Corinthians 11:5](https://www.biblegateway.com/passage/?search=2%20Corinthians%2011%3A5&version=KJV). Not only can he save your soul, he can fill you to overflowing with the holy spirit so that you can have power to witness, power over principalities and powers, he can lift you up so high that angels will become your servants [Hebrews 2:7-9](https://www.biblegateway.com/passage/?search=Hebrews%202%3A7-9&version=KJV).\n",
    "\n",
    "_Prophesy: I will give you a vision that will lead you to mighty prosperity._\n",
    "_Prophesy: out of the present hardship you will come out triumphant._\n",
    "\n",
    "[Isaiah 3:10](https://www.biblegateway.com/passage/?search=Isaiah%203%3A10&version=KJV), [Colossians 1:27](https://www.biblegateway.com/passage/?search=Colossians%201%3A27&version=KJV), [John 14:1-3](https://www.biblegateway.com/passage/?search=John%2014%3A1-3&version=KJV) your future is guaranteed to be alright.\n",
    "\n",
    "**Application:**\n",
    "\n",
    "Knowing who your God is should lead you to the following points:\n",
    "1. Put him first and he will single you out for a mighty miracle. [1 Kings 17:8-16](https://www.biblegateway.com/passage/?search=1%20Kings%2017%3A8-16&version=KJV) , [Luke 4:25-26](https://www.biblegateway.com/passage/?search=Luke%204%3A25-26&version=KJV)\n",
    "2. Obey him completely and he will heal you beyond expectations. [2 Kings 5:1-14](https://www.biblegateway.com/passage/?search=2%20Kings%205%3A1-14&version=KJV), [Luke 4:27](https://www.biblegateway.com/passage/?search=Luke%204%3A27&version=KJV)\n",
    "3. Trade with him and you will see El Shaddai in action. [1 Samuel 1:9-20](https://www.biblegateway.com/passage/?search=1%20Samuel%201%3A9-20&version=KJV)\n",
    "4. Be 100% committed to his kingdom work. [Psalms 57:7](https://www.biblegateway.com/passage/?search=Psalm%2057%3A7&version=KJV), [Psalms 34:1](https://www.biblegateway.com/passage/?search=Psalm%2034%3A1&version=KJV), [1 Chronicles 22:7-16](https://www.biblegateway.com/passage/?search=1%20Chronicles%2022&version=KJV), [Mark 10:46-52](https://www.biblegateway.com/passage/?search=Mark%2010%3A46-52&version=KJV)\n",
    "5. Don’t limit God. [2 Kings 4:1-7](https://www.biblegateway.com/passage/?search=2%20Kings%204%3A1-7&version=KJV)\n",
    "\n",
    "_Prophesy: the one blocking your vision is already on the way out._\n",
    "_Prophesy: one day when great people sit down together and are talking about greatness, they will point to you and say your case is exceptional._\n",
    "_Prophesy: I will give you 10 years of uninterrupted joy._\n",
    "\n",
    "In conclusion, whatever you do for God from now on, do it with all your heart. He will not share you with anyone or any idol, he is a very jealous God.\n",
    "\n",
    "**PRAYER POINTS:**\n",
    "\n",
    "1. Thank the almighty God for making sure that you are part of this service.\n",
    "2. Father, don’t pass me by tonight.\n",
    "3. Father, I will begin to trade with you. From now on anything called fruitless effort let it be far from me.\n",
    "4. Father, from now on arise and fight all my battles for me.\n",
    "5. Father, I will put you first in every sphere of life. Please bless me beyond measure.\n",
    "6. Father, don’t let my joy ever end.\n",
    "7. Personal request. PS: don’t limit God.\n",
    "\n",
    "\n"
   ]
  }
 ],
 "metadata": {
  "kernelspec": {
   "display_name": "Python 3 (ipykernel)",
   "language": "python",
   "name": "python3"
  },
  "language_info": {
   "codemirror_mode": {
    "name": "ipython",
    "version": 3
   },
   "file_extension": ".py",
   "mimetype": "text/x-python",
   "name": "python",
   "nbconvert_exporter": "python",
   "pygments_lexer": "ipython3",
   "version": "3.10.9"
  }
 },
 "nbformat": 4,
 "nbformat_minor": 5
}
