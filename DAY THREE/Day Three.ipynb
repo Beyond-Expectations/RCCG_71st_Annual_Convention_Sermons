{
 "cells": [
  {
   "cell_type": "markdown",
   "id": "1934aac7",
   "metadata": {},
   "source": [
    "# DAY THREE"
   ]
  },
  {
   "cell_type": "markdown",
   "id": "efe9618e",
   "metadata": {},
   "source": [
    "**TOPIC: BEYOND HEALING**\n",
    "\n",
    "**PREACHER: DADDY G.O.**\n",
    "\n",
    "**BIBLE TEXTS: [1 Peter 2:24](https://www.biblegateway.com/passage/?search=1%20Peter%202%3A24&version=KJV)**"
   ]
  },
  {
   "cell_type": "markdown",
   "id": "4dd059ad",
   "metadata": {},
   "source": [
    "**NOTES:**\n",
    "\n",
    "Immediately you were saved, you have access to divine healing.  You do not need to beat a man that you want to crucify. So why did they still beat Jesus with 40 stripes?\n",
    "\n",
    "In modern day prisons, when a man is about to be executed, he is usually treated with courtesy as a show of paying him the last respect. Hence, in the case of Jesus Christ, his beating was for your healing. _By his stripes ye were healed_. \n",
    "\n",
    "A scientist once asserted that all forms of sickness can be categorized into 39 types, thus, Jesus Christ took 40 stripes, making room for some kind of sickness that is yet to be discovered.\n",
    "\n",
    "* Jesus can restore dead parts of  the  body [Mark 3:1-5](https://www.biblegateway.com/passage/?search=Mark%203%3A1-5&version=KJV)\n",
    "* Jesus can replace parts of the body [Mark 8:22-25](https://www.biblegateway.com/passage/?search=Mark%208%3A22-25&version=KJV)\n",
    "* Jesus can recreate parts of the body [John 9:1-7](https://www.biblegateway.com/passage/?search=John%209%3A1-7&version=KJV)\n",
    "\n",
    "However, there is something beyond healing called _“wholeness”_ .  God can give a man total healing such that there will be no sign that you were ever  sick [2 Kings 5:1-14](https://www.biblegateway.com/passage/?search=2%20Kings%205%3A1-14&version=KJV).\n",
    "\n",
    "Beyond wholeness, there is a realm where one can live a life with an assurance that you can never be sick again. [Exodus 15:26](https://www.biblegateway.com/passage/?search=Exodus%2015%3A26&version=KJV)\n",
    "\n",
    "Beyond the realm of having an assurance to live sickness-free, is the realm where you carry the healing virtue such that any sick individual  who comes in contact with is healed [Acts 3:1-8](https://www.biblegateway.com/passage/?search=Acts%203%3A1-8&version=KJV).\n",
    "\n",
    "Beyond that realm of living sickness-free, the Almighty God can so empower you that your sweat (substances that you have used) will heal the sick [Acts 19:11-12](https://www.biblegateway.com/passage/?search=Acts%2019%3A11-12&version=KJV).\n",
    "\n",
    "Beyond the previous realm, God can so anoint you that your shadow (not you or your handkerchief) will heal the sick [Acts 5:14-16](https://www.biblegateway.com/passage/?search=Acts%205%3A14-16&version=KJV).\n",
    "\n",
    "_Applications:_ \n",
    "\n",
    "Applying all that we just learnt, in [Matthew 18:18](https://www.biblegateway.com/passage/?search=Matthew%2018%3A18&version=KJV) the Bible helps us to understand that whatever you allow on earth, will be allowed in heaven and whatever you disallow on earth, will be disallowed in heaven. \n",
    "\n",
    "Second application: God said in [Mark 16:17-18](https://www.biblegateway.com/passage/?search=Mark%2016%3A17-18&version=KJV) that in his name you will lay hands on the sick and they will recover.  Your duty is to lay hands while God does the rest. Another point is that “the sick” was not specified, consequently, you can lay your hands on yourself and be sure that you will recover.\n",
    "\n",
    "Third application: In [Psalm 107:20](https://www.biblegateway.com/passage/?search=Psalm%20107%3A20&version=KJV), God helped us to understand that he sent his word and they were healed. You are going to speak to your body saying “body, hear the word of the Lord it is written in [Matthew 15:13](https://www.biblegateway.com/passage/?search=Matthew%2015%3A13&version=KJV) that every plant that my father has not planted shall be rooted up. Hence, everything in you that was not put there by my God must come out tonight!”\n",
    "\n",
    "Again we will apply [Matthew 18:19](https://www.biblegateway.com/passage/?search=Matthew%2018%3A19&version=KJV). In agreement, we will pray for complete healing.\n",
    "\n",
    "However, like we discussed yesterday that nothing goes for nothing, the one who will be healed must be prepared to testify [Mark 1:40-45](https://www.biblegateway.com/passage/?search=Mark%201%3A40-45&version=KJV), [Luke 17:11-19](https://www.biblegateway.com/passage/?search=Luke%2017%3A11-19&version=KJV), [Acts 3:1-8](https://www.biblegateway.com/passage/?search=Acts%203%3A1-8&version=KJV) [Acts 2: 1-41](https://www.biblegateway.com/passage/?search=Acts%202%3A1-41&version=KJV) (Peter preached before he healed). The one whose sweat, handkerchief and apron will heal the sick must be spent for God [2 Corinthians 12:15](https://www.biblegateway.com/passage/?search=2%20Corinthians%2012%3A15&version=KJV). The one whose shadow is going to heal the sick like Peter must be ready to follow Jesus Christ anywhere, you must be 100% committed to him. There were many sons of the prophet but only Elisha got a double portion because he followed his master all the day [Luke 5:1-11](https://www.biblegateway.com/passage/?search=Luke%205%3A1-11&version=KJV). The person who will get beyond healing must be someone who will have faith like a child, [Mark 9:23](https://www.biblegateway.com/passage/?search=Mark%209%3A23&version=KJV) all things are possible to him who believes. \n",
    "\n",
    "There are times when we pray with every faith in us, fast, conduct vigils, and still not get the answer we desire and this could be as a result of several factors. In some cases, it could be because of sin ([Mark 2:1-12](https://www.biblegateway.com/passage/?search=Mark%202%3A1-12&version=KJV)). REPENT. \n",
    "\n",
    "**PRAYER POINTS:**\n",
    "\n",
    "1. (Prayer of agreement) Father, I agree with this fellow I’m holding, give him/her total wholeness tonight.\n",
    "\n",
    "2. Father, in the mighty name of Jesus, (your name) be healed.\n",
    "\n",
    "3. Father, in the mighty name of Jesus, my body hear the word of the Lord, anything that is not of God in you, get out now!\n"
   ]
  }
 ],
 "metadata": {
  "kernelspec": {
   "display_name": "Python 3 (ipykernel)",
   "language": "python",
   "name": "python3"
  },
  "language_info": {
   "codemirror_mode": {
    "name": "ipython",
    "version": 3
   },
   "file_extension": ".py",
   "mimetype": "text/x-python",
   "name": "python",
   "nbconvert_exporter": "python",
   "pygments_lexer": "ipython3",
   "version": "3.10.9"
  }
 },
 "nbformat": 4,
 "nbformat_minor": 5
}
