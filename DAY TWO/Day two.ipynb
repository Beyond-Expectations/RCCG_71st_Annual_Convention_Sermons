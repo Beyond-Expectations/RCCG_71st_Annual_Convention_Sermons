{
 "cells": [
  {
   "cell_type": "markdown",
   "id": "6920769b",
   "metadata": {},
   "source": [
    "# DAY TWO"
   ]
  },
  {
   "cell_type": "markdown",
   "id": "58aed9da",
   "metadata": {},
   "source": [
    "**TOPIC:  BEYOND SALVATION**\n",
    "\n",
    "**PREACHER: DADDY G. O.**\n",
    "\n",
    "**BIBLE TEXTS: [Hebrews 10:19-23](https://www.biblegateway.com/passage/?search=Hebrews%2010%3A19-23&version=KJV)**"
   ]
  },
  {
   "cell_type": "markdown",
   "id": "148a6ba5",
   "metadata": {},
   "source": [
    "**NOTES:**\n",
    "\n",
    "The topic beyond salvation can be visited from two angles: \n",
    "\n",
    "1. Salvation (sins are forgiven) > Sanctification (the ability to sin has been removed from an individual) > Baptism in the Holy Spirit > Dedication > etc\n",
    "\n",
    "2. Another perspective is that when one gets born again, he/she expects that they miss hell and gain heaven [John 3:16](https://www.biblegateway.com/passage/?search=John%203%3A16&version=KJV). But then salvation confers other wonderful things such as a brand new beginning  [2 Corinthians 5:17](https://www.biblegateway.com/passage/?search=2%20Corinthians%205%3A17&version=KJV),  a new name (child of God) [John 1:11-12](https://www.biblegateway.com/passage/?search=John%201%3A11-12&version=KJV), a new accommodation [Colossians 1:12-14](https://www.biblegateway.com/passage/?search=Colossians%201%3A12-14&version=KJV), a new management [Matthew 11:28-30](https://www.biblegateway.com/passage/?search=Matthew%2011%3A28-30&version=KJV). However, there are more benefits far beyond ordinary expectations. Because you are saved by the blood of Jesus [1 John 1:7](https://www.biblegateway.com/passage/?search=1%20John%201%3A7&version=KJV), you immediately have access to the:\n",
    "* Mighty arms of God [Isaiah 59:1](https://www.biblegateway.com/passage/?search=Isaiah%2059%3A1&version=KJV)\n",
    "* The ears of God [Isaiah 59:1](https://www.biblegateway.com/passage/?search=Isaiah%2059%3A1&version=KJV)\n",
    "* Answered prayers [Psalm 65:2](https://www.biblegateway.com/passage/?search=Psalm%2065%3A2&version=KJV)\n",
    "* You have victory over satan [Revelations 12:10-11](https://www.biblegateway.com/passage/?search=Revelation%2012%3A10-11&version=KJV)\n",
    "* Protection from death [Exodus 12:1-23](https://www.biblegateway.com/passage/?search=Exodus%2012%3A1-23%2CExodus%2012%3A28-30&version=KJV) (emphasis on vs [21](https://www.biblegateway.com/passage/?search=Exodus%2012%3A21&version=KJV))\n",
    "* Holiest [Hebrews 10:19](https://www.biblegateway.com/passage/?search=Hebrews%2010%3A19&version=KJV). The importance of this can be illustrated thus: visiting a head of states would require going through several gates, regardless of the mode through which you got an invitation. However, we do not require such protocol when we need help, we simply approach our heavenly Father in the name of Jesus.\n",
    "* Name of Jesus [Matthew 1:21](https://www.biblegateway.com/passage/?search=Matthew%201%3A21&version=KJV). Access to the name of Jesus guarantees dominion [Phillipians 2:1-11](https://www.biblegateway.com/passage/?search=Philippians%202%3A1-11&version=KJV)\n",
    "* You get recognition in hell [Acts 19:11-17](https://www.biblegateway.com/passage/?search=Acts%2019%3A11-17&version=KJV). The devil recognized Paul.\n",
    "* A great prayer partner - the HolySpirit [Romans 8:26](https://www.biblegateway.com/passage/?search=Romans%208%3A26&version=KJV).\n",
    "\n",
    "However, we learn from scriptures that “nothing goes for nothing”. Salvation is free, at the expense of the death of Jesus 1 Peter 1:18-19. Today, we come to God with expectations to receive from God, but he also has expectations from us, some of which includes:\n",
    "\n",
    "* That we glorify him with our bodies [1 Corinthians 6:18-20](https://www.biblegateway.com/passage/?search=1%20Corinthians%206%3A18-20&version=KJV). \n",
    "* That your light shines (through your actions, words, evangelism, etc.) to the world around you so that people will see and give glory to him (your father in heaven) [Matthew 5:14-16](https://www.biblegateway.com/passage/?search=Matthew%205%3A14-16&version=KJV). \n",
    "* That you become the salt of the earth, this can be likened to being “the destroyer” of corruption in your place of work. \n",
    "\n",
    "_It was Christ who found you, not the other way around, because you were the one who was lost [Ephesians 2:8-9](https://www.biblegateway.com/passage/?search=Ephesians%202%3A8-9&version=KJV)._ \n",
    "\n",
    "* Despite the fact that we have been saved by grace, God does not expect us to frustrate his grace in our lives [Galatians 2:20-21](https://www.biblegateway.com/passage/?search=Galatians%202%3A20-21&version=KJV). \n",
    "\n",
    "* He does not expect you to return to your sins [2 Peter 2:20-22](https://www.biblegateway.com/passage/?search=2%20Peter%202%3A20-22&version=KJV),  [Revelation 22:15](https://www.biblegateway.com/passage/?search=Revelation%2022%3A15&version=KJV). \n",
    "* God expects us to redeem time [Ephesians 5:14-16](https://www.biblegateway.com/passage/?search=Ephesians%205%3A14-16&version=KJV),  [Revelations 2:1-5](https://www.biblegateway.com/passage/?search=Revelation%202%3A1-5&version=KJV), [Joshua 13:1](https://www.biblegateway.com/passage/?search=Joshua%2013%3A1&version=KJV).\n",
    "\n",
    "\n",
    "**PRAYER POINTS:**\n",
    "_For backsliders: pray for restoration_\n",
    "For others:\n",
    "1. Father, thank you for preserving till this moment\n",
    "2. Father, I am sorry for not making full use of the benefits available to me via salvation.\n",
    "3. Father, by your grace I will serve you beyond expectations. My light will shine, my salt will be effective.\n",
    "4. Father, from tonight onwards, don’t let my life be ordinary. Let it be evident to all and sundry that I am living a life that is beyond expectations.\n"
   ]
  }
 ],
 "metadata": {
  "kernelspec": {
   "display_name": "Python 3 (ipykernel)",
   "language": "python",
   "name": "python3"
  },
  "language_info": {
   "codemirror_mode": {
    "name": "ipython",
    "version": 3
   },
   "file_extension": ".py",
   "mimetype": "text/x-python",
   "name": "python",
   "nbconvert_exporter": "python",
   "pygments_lexer": "ipython3",
   "version": "3.10.9"
  }
 },
 "nbformat": 4,
 "nbformat_minor": 5
}
