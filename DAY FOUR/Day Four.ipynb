{
 "cells": [
  {
   "cell_type": "markdown",
   "id": "c8234a70",
   "metadata": {},
   "source": [
    "# DAY FOUR"
   ]
  },
  {
   "cell_type": "markdown",
   "id": "a4eaf90b",
   "metadata": {},
   "source": [
    "**TOPIC: BEYOND DELIVERANCE**\n",
    "\n",
    "**PREACHER: DADDY G.O.**\n",
    "\n",
    "**BIBLE TEXTS: [ACTS 8:5-8](https://www.biblegateway.com/passage/?search=Acts%208%3A5-8&version=KJV)**"
   ]
  },
  {
   "cell_type": "markdown",
   "id": "e37a5351",
   "metadata": {},
   "source": [
    "**NOTES:**\n",
    "\n",
    "Deliverance can be described  as freedom from demonic forces. It could be a single demonic force [Mark 1:23-27](https://www.biblegateway.com/passage/?search=Mark%201%3A23-27&version=KJV), more than one [Luke 8:1-3](https://www.biblegateway.com/passage/?search=Luke%208%3A1-3&version=KJV), or thousands Mark 5:2-13. However, regardless of the number of demons, there is one who is called the deliverer - Jesus! \n",
    "\n",
    "Hence, when we talk about deliverance, we are talking about deliverance from unclean spirits. But deliverance offers more than deliverance from demons, it offers deliverance from destructive habits [Mark 5:5](https://www.biblegateway.com/passage/?search=Mark%205%3A5&version=KJV), it could be smoking, adultery, or fornication [1 Corinthians 3:17](https://www.biblegateway.com/passage/?search=1%20Corinthians%203%3A17&version=KJV).\n",
    "\n",
    "Deliverance can give freedom from wrong association [Proverbs 21:16](https://www.biblegateway.com/passage/?search=Proverbs%2021%3A16&version=KJV), [1 Corinthians 15:33](https://www.biblegateway.com/passage/?search=1%20Corinthians%2015%3A33&version=KJV), [Proverbs 13:20](https://www.biblegateway.com/passage/?search=Proverbs%2013%3A20&version=KJV). Deliverance offers more than this, a restoration of your destiny [Jeremiah 1:5](https://www.biblegateway.com/passage/?search=Jeremiah%201%3A5&version=KJV). For example, the mad of Gadara was restored to being an evangelist after being delivered. \n",
    "\n",
    "Deliverance can take you out of any generational curse. But deliverance offers more, in [Exodus 12:30-32](https://www.biblegateway.com/passage/?search=Exodus%2012%3A30-32&version=KJV), when God was delivering Israel from Egypt, Pharaoh asked that they go and serve God as they wish. Deliverance gives you the ability to serve God as you wish. For example, deliverance gives you the wealth to serve God as you wish, easily. It was deliverance that turned Mary to a divine treasurer. Poverty is a curse, prosperity is a blessing. That is why the devil is against anything that will make you prosper.  [3 John 1:2](https://www.biblegateway.com/passage/?search=3%20John%202&version=KJV) . \n",
    "\n",
    "If you study the Bible well, you will see that the prosperity of fools will destroy them , it is the blessing of the Lord that maketh rich and adds no sorrow. However, deliverance can take you deeper. Deliverance can turn you into a terror to the devil, someone who will move mountains [Acts 13:6-12](https://www.biblegateway.com/passage/?search=Acts%2013%3A6-12&version=KJV).\n",
    "\n",
    "More than providing the ability to move mountains, deliverance can take you to a level where you become a one man army [Acts 8:5-8](https://www.biblegateway.com/passage/?search=Acts%208%3A5-8&version=KJV). \n",
    "\n",
    "\n",
    "\n",
    "_Requirements to becoming a one man army for God:_\n",
    "\n",
    "1. Total submission to God [James 4:7](https://www.biblegateway.com/passage/?search=James%204%3A7&version=KJV), [John 14:30](https://www.biblegateway.com/passage/?search=John%2014%3A30&version=KJV).\n",
    "2. Be ready for a life of self-discipline [Matthew 17:14-21](https://www.biblegateway.com/passage/?search=Matthew%2017%3A14-21&version=KJV). You must be devoted to fasting and prayers, learn to say no to the flesh from time to time [1 Corinthians 9:27](https://www.biblegateway.com/passage/?search=1%20Corinthians%209%3A27&version=KJV). You don’t face the devil unless you are full of the HolySpirit.\n",
    "\n",
    "In conclusion, how can you become a terror to the devil if you are not born again [1 John 3:8](https://www.biblegateway.com/passage/?search=1%20John%203%3A8&version=KJV), [Acts 19:13-17](https://www.biblegateway.com/passage/?search=Acts%2019%3A13-17&version=KJV).\n",
    "\n",
    "**PRAYER POINTS:**\n",
    "1. Spend the first 5 minutes praising God.  [Acts 16:25-26](https://www.biblegateway.com/passage/?search=Acts%2016%3A25-26&version=KJV)\n",
    "\n",
    "2. Father, fill me to overflowing with your HolySpirit so that no demon will find space in me.\n",
    "\n",
    "3. Father, turn me to a terror to the devil.\n",
    "\n",
    "4. Father, in the mighty name of  Jesus, we command every demon to let go of their victims.\n",
    "\n",
    "5. Father, in the mighty name of Jesus, I hereby command, satan take your hands off my family.\n"
   ]
  }
 ],
 "metadata": {
  "kernelspec": {
   "display_name": "Python 3 (ipykernel)",
   "language": "python",
   "name": "python3"
  },
  "language_info": {
   "codemirror_mode": {
    "name": "ipython",
    "version": 3
   },
   "file_extension": ".py",
   "mimetype": "text/x-python",
   "name": "python",
   "nbconvert_exporter": "python",
   "pygments_lexer": "ipython3",
   "version": "3.10.9"
  }
 },
 "nbformat": 4,
 "nbformat_minor": 5
}
